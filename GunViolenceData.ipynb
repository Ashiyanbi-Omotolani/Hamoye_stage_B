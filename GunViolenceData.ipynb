{
 "cells": [
  {
   "cell_type": "code",
   "execution_count": 1,
   "metadata": {
    "ExecuteTime": {
     "end_time": "2022-02-06T13:18:35.259296Z",
     "start_time": "2022-02-06T13:18:35.250368Z"
    },
    "colab": {
     "base_uri": "https://localhost:8080/",
     "height": 34
    },
    "executionInfo": {
     "elapsed": 8,
     "status": "ok",
     "timestamp": 1644133719363,
     "user": {
      "displayName": "Akshay Satpute",
      "photoUrl": "https://lh3.googleusercontent.com/a-/AOh14Gh5QSEPdE3g8qkRGFr7kBaxRt-o_WDDGoT9ZGYn=s64",
      "userId": "17916516982417332487"
     },
     "user_tz": -330
    },
    "id": "ekVuD2fH8GXe",
    "outputId": "427c8c37-5d60-4585-d8ad-5c59a55bb57d"
   },
   "outputs": [
    {
     "data": {
      "application/javascript": [
       "IPython.notebook.set_autosave_interval(1000)"
      ]
     },
     "metadata": {},
     "output_type": "display_data"
    },
    {
     "name": "stdout",
     "output_type": "stream",
     "text": [
      "Autosaving every 1 seconds\n"
     ]
    }
   ],
   "source": [
    "%autosave 1"
   ]
  },
  {
   "cell_type": "markdown",
   "metadata": {
    "id": "S3Ui9j5_AVFV"
   },
   "source": [
    "\n",
    "\n",
    "---\n",
    "\n"
   ]
  },
  {
   "cell_type": "code",
   "execution_count": 2,
   "metadata": {
    "ExecuteTime": {
     "end_time": "2022-02-06T13:19:09.061984Z",
     "start_time": "2022-02-06T13:18:36.521152Z"
    },
    "executionInfo": {
     "elapsed": 1572,
     "status": "ok",
     "timestamp": 1644133720930,
     "user": {
      "displayName": "Akshay Satpute",
      "photoUrl": "https://lh3.googleusercontent.com/a-/AOh14Gh5QSEPdE3g8qkRGFr7kBaxRt-o_WDDGoT9ZGYn=s64",
      "userId": "17916516982417332487"
     },
     "user_tz": -330
    },
    "id": "0YQ6IeWAiUrJ"
   },
   "outputs": [],
   "source": [
    "import pandas as pd \n",
    "import numpy as np\n",
    "import seaborn as sns "
   ]
  },
  {
   "cell_type": "code",
   "execution_count": null,
   "metadata": {},
   "outputs": [],
   "source": []
  },
  {
   "cell_type": "code",
   "execution_count": null,
   "metadata": {
    "id": "8Nbb_Mtb8Aal"
   },
   "outputs": [],
   "source": [
    "#hiffffffffffffffffffffffffffffffffffffffff"
   ]
  },
  {
   "cell_type": "code",
   "execution_count": null,
   "metadata": {
    "id": "0YRTVd8O8Aam"
   },
   "outputs": [],
   "source": []
  },
  {
   "cell_type": "code",
   "execution_count": null,
   "metadata": {
    "id": "A__-_UxT8Aam"
   },
   "outputs": [],
   "source": []
  },
  {
   "cell_type": "code",
   "execution_count": null,
   "metadata": {
    "id": "_GjddSLK8Aam"
   },
   "outputs": [],
   "source": []
  },
  {
   "cell_type": "code",
   "execution_count": null,
   "metadata": {
    "id": "Pz1Xp7l-8Aan"
   },
   "outputs": [],
   "source": []
  }
 ],
 "metadata": {
  "colab": {
   "collapsed_sections": [],
   "name": "GunViolenceData.ipynb",
   "provenance": []
  },
  "kernelspec": {
   "display_name": "Python 3 (ipykernel)",
   "language": "python",
   "name": "python3"
  },
  "language_info": {
   "codemirror_mode": {
    "name": "ipython",
    "version": 3
   },
   "file_extension": ".py",
   "mimetype": "text/x-python",
   "name": "python",
   "nbconvert_exporter": "python",
   "pygments_lexer": "ipython3",
   "version": "3.8.12"
  }
 },
 "nbformat": 4,
 "nbformat_minor": 1
}
